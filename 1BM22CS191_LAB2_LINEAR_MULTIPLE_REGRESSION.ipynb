{
  "nbformat": 4,
  "nbformat_minor": 0,
  "metadata": {
    "colab": {
      "provenance": []
    },
    "kernelspec": {
      "name": "python3",
      "display_name": "Python 3"
    },
    "language_info": {
      "name": "python"
    }
  },
  "cells": [
    {
      "cell_type": "code",
      "execution_count": 7,
      "metadata": {
        "colab": {
          "base_uri": "https://localhost:8080/",
          "height": 588
        },
        "id": "vO5pmq6SrgwG",
        "outputId": "869a9bb8-695c-4158-b270-554a3f8f7825"
      },
      "outputs": [
        {
          "output_type": "stream",
          "name": "stdout",
          "text": [
            "[628715.75342466]\n",
            "[135.78767123]\n",
            "180616.43835616432\n",
            "[859554.79452055]\n"
          ]
        },
        {
          "output_type": "stream",
          "name": "stderr",
          "text": [
            "/usr/local/lib/python3.11/dist-packages/sklearn/utils/validation.py:2739: UserWarning: X does not have valid feature names, but LinearRegression was fitted with feature names\n",
            "  warnings.warn(\n",
            "/usr/local/lib/python3.11/dist-packages/sklearn/utils/validation.py:2739: UserWarning: X does not have valid feature names, but LinearRegression was fitted with feature names\n",
            "  warnings.warn(\n"
          ]
        },
        {
          "output_type": "display_data",
          "data": {
            "text/plain": [
              "<Figure size 640x480 with 1 Axes>"
            ],
            "image/png": "[encoded data removed]"
          },
          "metadata": {}
        }
      ],
      "source": [
        "import pandas as pd\n",
        "import numpy as np\n",
        "from sklearn import linear_model\n",
        "import matplotlib.pyplot as plt\n",
        "\n",
        "df = pd.read_csv('housing_area_price.csv')\n",
        "df\n",
        "\n",
        "# Commented out IPython magic to ensure Python compatibility.\n",
        "# %matplotlib inline\n",
        "plt.xlabel('area')\n",
        "plt.ylabel('price')\n",
        "plt.scatter(df.area,df.price,color='red',marker='+')\n",
        "\n",
        "new_df = df.drop('price',axis='columns')\n",
        "new_df\n",
        "\n",
        "price = df.price\n",
        "price\n",
        "\n",
        "# Create linear regression object\n",
        "reg = linear_model.LinearRegression()\n",
        "reg.fit(new_df,price)\n",
        "\n",
        "\"\"\"(1) Predict price of a home with area = 3300 sqr ft\"\"\"\n",
        "\n",
        "print(reg.predict([[3300]]))\n",
        "\n",
        "print(reg.coef_)\n",
        "\n",
        "print(reg.intercept_)\n",
        "\n",
        "\"\"\"Y = m * X + b (m is coefficient and b is intercept)\"\"\"\n",
        "\n",
        "3300*135.78767123 + 180616.43835616432\n",
        "\n",
        "\"\"\"(1) Predict price of a home with area = 5000 sqr ft\"\"\"\n",
        "\n",
        "print(reg.predict([[5000]]))"
      ]
    },
    {
      "cell_type": "code",
      "source": [
        "import pandas as pd\n",
        "import numpy as np\n",
        "from sklearn import linear_model\n",
        "\n",
        "df = pd.read_csv('homeprices_Multiple_LR.csv')\n",
        "df\n",
        "\n",
        "\"\"\"Data Preprocessing: Fill NA values with median value of a column\"\"\"\n",
        "\n",
        "print(df.bedrooms.median())\n",
        "\n",
        "df.bedrooms = df.bedrooms.fillna(df.bedrooms.median())\n",
        "print(df)\n",
        "\n",
        "reg = linear_model.LinearRegression()\n",
        "reg.fit(df.drop('price',axis='columns'),df.price)\n",
        "\n",
        "print(reg.coef_)\n",
        "\n",
        "print(reg.intercept_)\n",
        "\n",
        "\"\"\"Find price of home with 3000 sqr ft area, 3 bedrooms, 40 year old\"\"\"\n",
        "\n",
        "print(reg.predict([[3000, 3, 40]]))\n",
        "\n",
        "112.06244194*3000 + 23388.88007794*3 + -3231.71790863*40 + 221323.00186540384"
      ],
      "metadata": {
        "colab": {
          "base_uri": "https://localhost:8080/"
        },
        "id": "Ca2Lh-cmvcv_",
        "outputId": "385890ab-9591-4318-a601-014fced13b21"
      },
      "execution_count": 9,
      "outputs": [
        {
          "output_type": "stream",
          "name": "stdout",
          "text": [
            "4.0\n",
            "   area  bedrooms  age   price\n",
            "0  2600       3.0   20  550000\n",
            "1  3000       4.0   15  565000\n",
            "2  3200       4.0   18  610000\n",
            "3  3600       3.0   30  595000\n",
            "4  4000       5.0    8  760000\n",
            "5  4100       6.0    8  810000\n",
            "[  112.06244194 23388.88007794 -3231.71790863]\n",
            "221323.00186540396\n",
            "[498408.25158031]\n"
          ]
        },
        {
          "output_type": "stream",
          "name": "stderr",
          "text": [
            "/usr/local/lib/python3.11/dist-packages/sklearn/utils/validation.py:2739: UserWarning: X does not have valid feature names, but LinearRegression was fitted with feature names\n",
            "  warnings.warn(\n"
          ]
        },
        {
          "output_type": "execute_result",
          "data": {
            "text/plain": [
              "498408.25157402386"
            ]
          },
          "metadata": {},
          "execution_count": 9
        }
      ]
    },
    {
      "cell_type": "code",
      "source": [
        "import pandas as pd\n",
        "import numpy as np\n",
        "from sklearn import linear_model\n",
        "import matplotlib.pyplot as plt\n",
        "\n",
        "df = pd.read_csv('canada_per_capita_income.csv')\n",
        "df\n",
        "\n",
        "# Commented out IPython magic to ensure Python compatibility.\n",
        "# %matplotlib inline\n",
        "plt.xlabel('year')\n",
        "plt.ylabel('per_capita_income')\n",
        "plt.scatter(df.year,df.income,color='red',marker='+')\n",
        "\n",
        "new_df = df.drop('income',axis='columns')\n",
        "new_df\n",
        "\n",
        "income= df.income\n",
        "income\n",
        "\n",
        "# Create linear regression object\n",
        "reg = linear_model.LinearRegression()\n",
        "reg.fit(new_df,income)\n",
        "print(reg.predict([[2020]]))\n",
        "print(reg.coef_)\n",
        "print(reg.intercept_)"
      ],
      "metadata": {
        "colab": {
          "base_uri": "https://localhost:8080/",
          "height": 536
        },
        "id": "rD2S9NTEwC5f",
        "outputId": "af9ca814-9208-437a-f5cb-569466d81b4e"
      },
      "execution_count": 15,
      "outputs": [
        {
          "output_type": "stream",
          "name": "stderr",
          "text": [
            "/usr/local/lib/python3.11/dist-packages/sklearn/utils/validation.py:2739: UserWarning: X does not have valid feature names, but LinearRegression was fitted with feature names\n",
            "  warnings.warn(\n"
          ]
        },
        {
          "output_type": "stream",
          "name": "stdout",
          "text": [
            "[41288.69409442]\n",
            "[828.46507522]\n",
            "-1632210.7578554575\n"
          ]
        },
        {
          "output_type": "display_data",
          "data": {
            "text/plain": [
              "<Figure size 640x480 with 1 Axes>"
            ],
            "image/png": "[encoded data removed]"
          },
          "metadata": {}
        }
      ]
    },
    {
      "cell_type": "code",
      "source": [
        "import pandas as pd\n",
        "import numpy as np\n",
        "from sklearn import linear_model\n",
        "import matplotlib.pyplot as plt\n",
        "\n",
        "df = pd.read_csv('salary.csv')\n",
        "df\n",
        "print(df.Year.median())\n",
        "\n",
        "df.Year = df.Year.fillna(df.Year.median())\n",
        "print(df)\n",
        "# Commented out IPython magic to ensure Python compatibility.\n",
        "# %matplotlib inline\n",
        "plt.xlabel('Year')\n",
        "plt.ylabel('salary')\n",
        "plt.scatter(df.Year,df.Salary,color='red',marker='+')\n",
        "new_df = df.drop('Salary',axis='columns')\n",
        "Salary= df.Salary\n",
        "# Create linear regression object\n",
        "reg = linear_model.LinearRegression()\n",
        "reg.fit(new_df,Salary)\n",
        "print(reg.predict([[12]]))\n",
        "print(reg.coef_)\n",
        "print(reg.intercept_)"
      ],
      "metadata": {
        "colab": {
          "base_uri": "https://localhost:8080/",
          "height": 1000
        },
        "id": "F0KuiQ_PyilH",
        "outputId": "6614e408-006b-4c58-c505-d0fe3634b059"
      },
      "execution_count": 21,
      "outputs": [
        {
          "output_type": "stream",
          "name": "stdout",
          "text": [
            "4.5\n",
            "    Year  Salary\n",
            "0    1.1   39343\n",
            "1    1.3   46205\n",
            "2    1.5   37731\n",
            "3    2.0   43525\n",
            "4    2.2   39891\n",
            "5    2.9   56642\n",
            "6    3.0   60150\n",
            "7    3.2   54445\n",
            "8    3.2   64445\n",
            "9    3.7   57189\n",
            "10   3.9   63218\n",
            "11   4.0   55794\n",
            "12   4.0   56957\n",
            "13   4.1   57081\n",
            "14   4.5   61111\n",
            "15   4.9   67938\n",
            "16   5.1   66029\n",
            "17   5.3   83088\n",
            "18   5.9   81363\n",
            "19   6.0   93940\n",
            "20   6.8   91738\n",
            "21   7.1   98273\n",
            "22   7.9  101302\n",
            "23   8.2  113812\n",
            "24   8.7  109431\n",
            "25   9.0  105582\n",
            "26   4.5  116969\n",
            "27   9.6  112635\n",
            "28  10.3  122391\n",
            "29  10.5  121872\n",
            "[139574.04095966]\n",
            "[9275.93010112]\n",
            "28262.879746248997\n"
          ]
        },
        {
          "output_type": "stream",
          "name": "stderr",
          "text": [
            "/usr/local/lib/python3.11/dist-packages/sklearn/utils/validation.py:2739: UserWarning: X does not have valid feature names, but LinearRegression was fitted with feature names\n",
            "  warnings.warn(\n"
          ]
        },
        {
          "output_type": "display_data",
          "data": {
            "text/plain": [
              "<Figure size 640x480 with 1 Axes>"
            ],
            "image/png": "[encoded data removed]"
          },
          "metadata": {}
        }
      ]
    },
    {
      "cell_type": "code",
      "source": [
        "import pandas as pd\n",
        "import numpy as np\n",
        "from sklearn import linear_model\n",
        "\n",
        "df = pd.read_csv('hiring.csv')\n",
        "\n",
        "df['test_score(out of 10)'] = df['test_score(out of 10)'].fillna(df['test_score(out of 10)'].median())\n",
        "\n",
        "df['experience'] = df['experience'].fillna('zero')\n",
        "\n",
        "def convert_to_int(word):\n",
        "    word_dict = {'one':1, 'two':2, 'three':3, 'four':4, 'five':5, 'six':6, 'seven':7, 'eight':8,\n",
        "                'nine':9, 'ten':10, 'eleven':11, 'twelve':12, 'zero':0, 0:0}\n",
        "    return word_dict[word]\n",
        "\n",
        "df['experience'] = df['experience'].apply(lambda x : convert_to_int(x))\n",
        "\n",
        "df['experience']=df['experience'].replace(0,df['experience'].median())\n",
        "\n",
        "reg = linear_model.LinearRegression()\n",
        "reg.fit(df[['experience','test_score(out of 10)','interview_score(out of 10)']],df['salary($)'])\n",
        "\n",
        "print(reg.predict([[2,9,6]]))\n",
        "print(reg.predict([[12,10,10]]))\n",
        "print(reg.predict([[11,7,8]]))"
      ],
      "metadata": {
        "colab": {
          "base_uri": "https://localhost:8080/"
        },
        "id": "hbl0pDDkz4kG",
        "outputId": "217f88d0-e892-4336-cbea-15f6f7e453ca"
      },
      "execution_count": 25,
      "outputs": [
        {
          "output_type": "stream",
          "name": "stdout",
          "text": [
            "[46341.80249281]\n",
            "[94792.77433975]\n",
            "[79622.15636712]\n"
          ]
        },
        {
          "output_type": "stream",
          "name": "stderr",
          "text": [
            "/usr/local/lib/python3.11/dist-packages/sklearn/utils/validation.py:2739: UserWarning: X does not have valid feature names, but LinearRegression was fitted with feature names\n",
            "  warnings.warn(\n",
            "/usr/local/lib/python3.11/dist-packages/sklearn/utils/validation.py:2739: UserWarning: X does not have valid feature names, but LinearRegression was fitted with feature names\n",
            "  warnings.warn(\n",
            "/usr/local/lib/python3.11/dist-packages/sklearn/utils/validation.py:2739: UserWarning: X does not have valid feature names, but LinearRegression was fitted with feature names\n",
            "  warnings.warn(\n"
          ]
        }
      ]
    },
    {
      "cell_type": "code",
      "source": [
        "import pandas as pd\n",
        "from sklearn import linear_model\n",
        "\n",
        "\n",
        "df = pd.read_csv('1000_Companies.csv')\n",
        "\n",
        "df['R&D Spend'].replace(0,df['R&D Spend'].mean(),inplace=True)\n",
        "df['Administration'].replace(0,df['Administration'].mean(),inplace=True)\n",
        "df['Marketing Spend'].replace(0,df['Marketing Spend'].mean(),inplace=True)\n",
        "\n",
        "\n",
        "X = df[['R&D Spend', 'Administration', 'Marketing Spend', 'State']]\n",
        "y = df['Profit']\n",
        "\n",
        "# convert 'State' column to numerical using one-hot encoding\n",
        "X = pd.get_dummies(X, columns=['State'], drop_first=True)\n",
        "\n",
        "# create and train\n",
        "reg = linear_model.LinearRegression()\n",
        "reg.fit(X, y)\n",
        "\n",
        "\n",
        "new_data = pd.DataFrame({\n",
        "    'R&D Spend': [153441.51],\n",
        "    'Administration': [101145.55],\n",
        "    'Marketing Spend': [407934.54],\n",
        "    'State_Florida': [1],  # Florida is represented by 1\n",
        "    'State_New York': [0],\n",
        "})\n",
        "\n",
        "\n",
        "predicted_profit = reg.predict(new_data)\n",
        "print(predicted_profit)"
      ],
      "metadata": {
        "colab": {
          "base_uri": "https://localhost:8080/"
        },
        "id": "H-_B3sK61ua3",
        "outputId": "cf649974-554f-417d-9703-9d7fa37748db"
      },
      "execution_count": 43,
      "outputs": [
        {
          "output_type": "stream",
          "name": "stdout",
          "text": [
            "[152323.90233728]\n"
          ]
        },
        {
          "output_type": "stream",
          "name": "stderr",
          "text": [
            "<ipython-input-43-9fece11840e1>:7: FutureWarning: A value is trying to be set on a copy of a DataFrame or Series through chained assignment using an inplace method.\n",
            "The behavior will change in pandas 3.0. This inplace method will never work because the intermediate object on which we are setting values always behaves as a copy.\n",
            "\n",
            "For example, when doing 'df[col].method(value, inplace=True)', try using 'df.method({col: value}, inplace=True)' or df[col] = df[col].method(value) instead, to perform the operation inplace on the original object.\n",
            "\n",
            "\n",
            "  df['R&D Spend'].replace(0,df['R&D Spend'].mean(),inplace=True)\n",
            "<ipython-input-43-9fece11840e1>:8: FutureWarning: A value is trying to be set on a copy of a DataFrame or Series through chained assignment using an inplace method.\n",
            "The behavior will change in pandas 3.0. This inplace method will never work because the intermediate object on which we are setting values always behaves as a copy.\n",
            "\n",
            "For example, when doing 'df[col].method(value, inplace=True)', try using 'df.method({col: value}, inplace=True)' or df[col] = df[col].method(value) instead, to perform the operation inplace on the original object.\n",
            "\n",
            "\n",
            "  df['Administration'].replace(0,df['Administration'].mean(),inplace=True)\n",
            "<ipython-input-43-9fece11840e1>:9: FutureWarning: A value is trying to be set on a copy of a DataFrame or Series through chained assignment using an inplace method.\n",
            "The behavior will change in pandas 3.0. This inplace method will never work because the intermediate object on which we are setting values always behaves as a copy.\n",
            "\n",
            "For example, when doing 'df[col].method(value, inplace=True)', try using 'df.method({col: value}, inplace=True)' or df[col] = df[col].method(value) instead, to perform the operation inplace on the original object.\n",
            "\n",
            "\n",
            "  df['Marketing Spend'].replace(0,df['Marketing Spend'].mean(),inplace=True)\n"
          ]
        }
      ]
    }
  ]
}