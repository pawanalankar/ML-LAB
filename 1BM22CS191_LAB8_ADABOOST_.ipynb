{
  "nbformat": 4,
  "nbformat_minor": 0,
  "metadata": {
    "colab": {
      "provenance": []
    },
    "kernelspec": {
      "name": "python3",
      "display_name": "Python 3"
    },
    "language_info": {
      "name": "python"
    }
  },
  "cells": [
    {
      "cell_type": "code",
      "execution_count": null,
      "metadata": {
        "id": "fFkc7r5kN0ei",
        "colab": {
          "base_uri": "https://localhost:8080/"
        },
        "outputId": "081a3010-3f21-4fb4-c35a-29c3e8a9ff67"
      },
      "outputs": [
        {
          "output_type": "stream",
          "name": "stdout",
          "text": [
            "Default AdaBoost Accuracy (n_estimators=10): 0.8182\n"
          ]
        }
      ],
      "source": [
        "import pandas as pd\n",
        "from sklearn.ensemble import AdaBoostClassifier\n",
        "from sklearn.model_selection import train_test_split\n",
        "from sklearn.preprocessing import LabelEncoder\n",
        "from sklearn.metrics import accuracy_score\n",
        "import matplotlib.pyplot as plt\n",
        "\n",
        "# Load the dataset\n",
        "df = pd.read_csv(\"income.csv\")\n",
        "\n",
        "# Encode categorical features if necessary\n",
        "df_encoded = df.copy()\n",
        "label_encoders = {}\n",
        "for column in df_encoded.columns:\n",
        "    if df_encoded[column].dtype == 'object':\n",
        "        le = LabelEncoder()\n",
        "        df_encoded[column] = le.fit_transform(df_encoded[column])\n",
        "        label_encoders[column] = le\n",
        "\n",
        "# Assume the target column is named 'income' (you may need to adjust this)\n",
        "X = df_encoded.drop(columns=['income_level'])\n",
        "y = df_encoded['income_level']\n",
        "\n",
        "# Train-test split\n",
        "X_train, X_test, y_train, y_test = train_test_split(X, y, test_size=0.2, random_state=42)\n",
        "\n",
        "# 1. Train with default n_estimators=10\n",
        "ab_default = AdaBoostClassifier(n_estimators=10, random_state=42)\n",
        "ab_default.fit(X_train, y_train)\n",
        "y_pred_default = ab_default.predict(X_test)\n",
        "default_accuracy = accuracy_score(y_test, y_pred_default)\n",
        "\n",
        "print(f\"Default AdaBoost Accuracy (n_estimators=10): {default_accuracy:.4f}\")\n",
        "\n",
        "# 2. Fine-tune the number of trees\n",
        "best_accuracy = 0\n",
        "best_n = 0\n",
        "accuracies = []\n",
        "\n",
        "for n in range(1, 101):\n",
        "    ab = AdaBoostClassifier(n_estimators=n, random_state=42)\n",
        "    ab.fit(X_train, y_train)\n",
        "    y_pred = ab.predict(X_test)\n",
        "    acc = accuracy_score(y_test, y_pred)\n",
        "    accuracies.append(acc)\n",
        "\n",
        "    if acc > best_accuracy:\n",
        "        best_accuracy = acc\n",
        "        best_n = n\n",
        "\n",
        "print(f\"\\nBest Accuracy: {best_accuracy:.4f} achieved with n_estimators={best_n}\")\n",
        "\n",
        "# Plot accuracy vs n_estimators\n",
        "plt.figure(figsize=(10, 5))\n",
        "plt.plot(range(1, 101), accuracies, marker='o', color='darkorange')\n",
        "plt.title('AdaBoost Accuracy vs. Number of Trees (n_estimators)')\n",
        "plt.xlabel('Number of Trees (n_estimators)')\n",
        "plt.ylabel('Accuracy')\n",
        "plt.grid(True)\n",
        "plt.show()\n"
      ]
    }
  ]
}